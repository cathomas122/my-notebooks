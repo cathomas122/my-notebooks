{
  "nbformat": 4,
  "nbformat_minor": 0,
  "metadata": {
    "colab": {
      "name": "My First Notebook",
      "provenance": [],
      "authorship_tag": "ABX9TyMUjZzmk/U0xuZ/uqMc0CGi",
      "include_colab_link": true
    },
    "kernelspec": {
      "name": "python3",
      "display_name": "Python 3"
    },
    "language_info": {
      "name": "python"
    }
  },
  "cells": [
    {
      "cell_type": "markdown",
      "metadata": {
        "id": "view-in-github",
        "colab_type": "text"
      },
      "source": [
        "<a href=\"https://colab.research.google.com/github/cathomas122/my-notebooks/blob/main/My_First_Notebook.ipynb\" target=\"_parent\"><img src=\"https://colab.research.google.com/assets/colab-badge.svg\" alt=\"Open In Colab\"/></a>"
      ]
    },
    {
      "cell_type": "code",
      "metadata": {
        "colab": {
          "base_uri": "https://localhost:8080/"
        },
        "id": "W8bSPHwasc-3",
        "outputId": "401eab20-727e-4f3e-c903-91497625eac9"
      },
      "source": [
        "print(\"Hello World!\")"
      ],
      "execution_count": 1,
      "outputs": [
        {
          "output_type": "stream",
          "text": [
            "Hello World!\n"
          ],
          "name": "stdout"
        }
      ]
    },
    {
      "cell_type": "markdown",
      "metadata": {
        "id": "RErOsU28uB2v"
      },
      "source": [
        ""
      ]
    },
    {
      "cell_type": "markdown",
      "metadata": {
        "id": "Wrdcrlr9srb6"
      },
      "source": [
        "# **My First Notebook**\n",
        "> Welcome to Monty Python's Flying Circus!\n",
        "> \n",
        "There should be an image below, but it has to be an image file as opposed\n",
        "to a regular URL :(\n",
        "\n",
        "![IMAGE](https://images.app.goo.gl/saf5V2NTPDWiw7Ak6)\n",
        "\n"
      ]
    }
  ]
}